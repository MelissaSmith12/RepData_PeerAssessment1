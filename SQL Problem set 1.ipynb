{
 "cells": [
  {
   "cell_type": "code",
   "execution_count": null,
   "metadata": {
    "collapsed": true
   },
   "outputs": [],
   "source": [
    "'''\n",
    "\n",
    "Welcome to your first Problem Set!  \n",
    "\n",
    "Problem Sets are here to get you set up and ready to start doing\n",
    "amazing things using SQL.\n",
    "\n",
    "In this exercise, there are a bunch of queries for you to try out. \n",
    "Feel free to experiment by changing existing queries or writing one all on your own!\n",
    "\n",
    "Let's jump right in...\n",
    "\n",
    "Hit Test Run to see the result of your first query!\n",
    "\n",
    "'''\n",
    "\n",
    "#QUERY = \"SELECT Composer, Name FROM Track WHERE Composer='Van Halen';\"\n",
    "\n",
    "'''\n",
    "\n",
    "NICE WORK!  Were you able to see the output below?  That's your data :)\n",
    "\n",
    "Throughout the problem sets in this course you'll be using the Chinook Database.\n",
    "\n",
    "This database represents a music store you're going to query, explore \n",
    "and eventually build all on your own!\n",
    "\n",
    "SQL is all about answering questions driven by your own curiosity and \n",
    "excitement about the data you've collected.  \n",
    "\n",
    "Let's ask our database another question!\n",
    "\n",
    "'''\n",
    "\n",
    "'''QUESTION:Which songs in this dataset were written by AC/DC?'''\n",
    "\n",
    "# <-- Remove this hashtag from before any QUERY to 'uncomment' it.\n",
    "# Next hit Test Run to see the result. \n",
    "\n",
    "#QUERY = \"SELECT Name FROM Track WHERE Composer='AC/DC';\"\n",
    "\n",
    "'''Do you think that query did a good job answering the question?'''\n",
    "\n",
    "'''Sort of. I wish the query had included the composer too.\n",
    "\n",
    "\n",
    "You'll notice the SQL closely resembles spoken language and it's not \n",
    "too hard to figure out what a query is asking.  \n",
    "\n",
    "See if you can figure out what the following questions are hoping to find!\n",
    "\n",
    "'''\n",
    "\n",
    "\n",
    "'''QUESTION: How long would it take to listen to all the songs in our \n",
    "dataset that were written by Johannes Sebastian Bach?'''\n",
    "\n",
    "#QUERY = \"SELECT Composer, sum(Milliseconds) FROM Track WHERE Composer='Johann Sebastian Bach';\"\n",
    "\n",
    "\n",
    "'''QUESTION: Fill in the question you think could be answered by the following query.'''\n",
    "\n",
    "#QUERY = \"SELECT FirstName, LastName FROM Customer WHERE FirstName='Phil';\"\n",
    "\n",
    "'''Did this query find an employee named Phil?''' \n",
    "\n",
    "\n",
    "'''QUESTION: Fill in the question you think could be answered by the following query.'''\n",
    "\n",
    "#QUERY = \"SELECT FirstName, LastName, Title, Birthdate FROM Employee;\"\n",
    "\n",
    "\n",
    "'''\n",
    "Did running your queries return the type of results you might have expected?  I hope so :)\n",
    "\n",
    "Let's try something a little different...\n",
    "\n",
    "Can you change the following query so that it better answers the given question?\n",
    "\n",
    "QUESTION: Which tracks in our dataset were written by Jimi Hendrix?'''\n",
    "\n",
    "#QUERY = \"SELECT Composer, Name FROM Track WHERE Composer = 'Jimi Hendrix';\"\n",
    "\n",
    "'''\n",
    "\n",
    "Were you able to get a list of songs by Jimi Hendrix?\n",
    "\n",
    "A great way to start building your own queries is by knowing which  \n",
    "tables and columns are held in your database.\n",
    "\n",
    "One way to learn this is by setting up your own local environment, \n",
    "and that's what you'll be doing by the end of this problem set!\n",
    "\n",
    "'''\n"
   ]
  },
  {
   "cell_type": "code",
   "execution_count": null,
   "metadata": {
    "collapsed": true
   },
   "outputs": [],
   "source": [
    "What question is this SQL query trying to answer?\n",
    "\n",
    "SELECT min(Total), max(Total), avg(Total)\n",
    "FROM Invoice\n",
    "WHERE BillingCountry = 'Germany';\n",
    "\n",
    "What are the minimum, maximum, and average total invoice amounts from customers in Germany?"
   ]
  },
  {
   "cell_type": "code",
   "execution_count": null,
   "metadata": {
    "collapsed": true
   },
   "outputs": [],
   "source": [
    "What question is this SQL query trying to answer?\n",
    "\n",
    "SELECT Composer, sum(Milliseconds), sum(bytes)\n",
    "FROM Track\n",
    "WHERE Composer = 'Wolfgang Amadeus Mozart';\n",
    "\n",
    "What as the total sum in milliseconds of songs by Mozart in the data set?"
   ]
  },
  {
   "cell_type": "code",
   "execution_count": null,
   "metadata": {
    "collapsed": true
   },
   "outputs": [],
   "source": []
  },
  {
   "cell_type": "code",
   "execution_count": null,
   "metadata": {
    "collapsed": true
   },
   "outputs": [],
   "source": []
  },
  {
   "cell_type": "code",
   "execution_count": null,
   "metadata": {
    "collapsed": true
   },
   "outputs": [],
   "source": []
  }
 ],
 "metadata": {
  "anaconda-cloud": {},
  "kernelspec": {
   "display_name": "Python [conda env:DAND]",
   "language": "python",
   "name": "conda-env-DAND-py"
  },
  "language_info": {
   "codemirror_mode": {
    "name": "ipython",
    "version": 2
   },
   "file_extension": ".py",
   "mimetype": "text/x-python",
   "name": "python",
   "nbconvert_exporter": "python",
   "pygments_lexer": "ipython2",
   "version": "2.7.12"
  }
 },
 "nbformat": 4,
 "nbformat_minor": 2
}
